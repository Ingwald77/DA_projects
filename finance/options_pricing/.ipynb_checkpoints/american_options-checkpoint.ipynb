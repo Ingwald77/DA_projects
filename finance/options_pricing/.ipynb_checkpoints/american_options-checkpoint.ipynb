{
 "cells": [
  {
   "cell_type": "code",
   "execution_count": 1,
   "id": "574a98cb",
   "metadata": {},
   "outputs": [],
   "source": [
    "import numpy as np"
   ]
  },
  {
   "cell_type": "code",
   "execution_count": 2,
   "id": "94567bf9",
   "metadata": {},
   "outputs": [
    {
     "name": "stdout",
     "output_type": "stream",
     "text": [
      "American put option price: 10.087176434931456\n"
     ]
    }
   ],
   "source": [
    "def american_option_binomial_tree(S, K, r, sigma, T, N, option_type = 'C'):\n",
    "    \"\"\"\n",
    "    Price an American call option using a binomial tree.\n",
    "    \n",
    "    S : float : initial stock price\n",
    "    K : float : strike price\n",
    "    r : float : risk-free interest rate\n",
    "    sigma : float : volatility\n",
    "    T : float : time to maturity (in years)\n",
    "    N : int : number of time steps\n",
    "    option_type: str : the type of option, default Call\n",
    "    \"\"\"\n",
    "    # Calculate the parameters of the binomial tree model\n",
    "    delta_t = T / N\n",
    "    # up-move factor\n",
    "    u = np.exp(sigma * np.sqrt(delta_t))\n",
    "    #down-move factor\n",
    "    d = 1 / u\n",
    "    # probability of up-move\n",
    "    p = (1 + r - d) / (u - d)\n",
    "    # probability of down-move\n",
    "    q = 1 - p\n",
    "    \n",
    "    # Initialize the stock price and option value arrays\n",
    "    stock_price = np.zeros((N + 1, N + 1))\n",
    "    option_value = np.zeros((N + 1, N + 1))\n",
    "    \n",
    "    if option_type == 'C':\n",
    "        # Calculate stock prices at each time step\n",
    "        for i in range(N + 1):\n",
    "            for j in range(i + 1):\n",
    "                stock_price[j, i] = S * (u ** (i - j)) * (d ** j)\n",
    "\n",
    "        # Calculate option value at each time step\n",
    "        for j in range(N + 1):\n",
    "            option_value[j, N] = max(0, stock_price[j, N] - K)\n",
    "            \n",
    "        # Calculate the option value at earlier times using backward induction\n",
    "        for i in range(N - 1, -1, -1):\n",
    "            for j in range(i + 1):\n",
    "                exercise = (stock_price[j, i] - K)\n",
    "                hold = np.exp(-r * delta_t) * (p * option_value[j, i + 1] + q * option_value[j + 1, i + 1])\n",
    "                option_value[j, i] = max(exercise, hold)\n",
    "         # Return the option price at time 0\n",
    "        return option_value[0, 0]\n",
    "    \n",
    "    else:\n",
    "        for i in range(N+1):\n",
    "            for j in range(i+1):\n",
    "                stock_price[j, i] = S * (u ** (i-j)) * (d ** j)\n",
    "                option_value[j, i] = max(K - stock_price[j, i], 0)\n",
    "\n",
    "\n",
    "        for i in range(N-1, -1, -1):\n",
    "            for j in range(i+1):\n",
    "                exercise_value = K - stock_price[j, i]\n",
    "                expected_value = p * option_value[j, i+1] + q * option_value[j+1, i+1]\n",
    "                option_value[j, i] = max(exercise_value, expected_value)\n",
    "\n",
    "       \n",
    "        return option_value[0, 0]\n",
    "\n",
    "# Example usage\n",
    "S = 60\n",
    "K = 55\n",
    "r = 0.05\n",
    "sigma = 0.7\n",
    "T = 1\n",
    "N = 4\n",
    "\n",
    "american_call_price = american_option_binomial_tree(S, K, r, sigma, T, N, 'P')\n",
    "print('American put option price:', american_call_price)"
   ]
  },
  {
   "cell_type": "code",
   "execution_count": null,
   "id": "c041107c",
   "metadata": {},
   "outputs": [],
   "source": []
  },
  {
   "cell_type": "code",
   "execution_count": null,
   "id": "4b360d19",
   "metadata": {},
   "outputs": [],
   "source": []
  }
 ],
 "metadata": {
  "kernelspec": {
   "display_name": "Python 3 (ipykernel)",
   "language": "python",
   "name": "python3"
  },
  "language_info": {
   "codemirror_mode": {
    "name": "ipython",
    "version": 3
   },
   "file_extension": ".py",
   "mimetype": "text/x-python",
   "name": "python",
   "nbconvert_exporter": "python",
   "pygments_lexer": "ipython3",
   "version": "3.9.13"
  }
 },
 "nbformat": 4,
 "nbformat_minor": 5
}
