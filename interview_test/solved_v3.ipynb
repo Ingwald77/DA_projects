{
 "cells": [
  {
   "cell_type": "code",
   "execution_count": 1,
   "id": "f208caa6",
   "metadata": {
    "ExecuteTime": {
     "end_time": "2023-06-01T03:40:49.548413Z",
     "start_time": "2023-06-01T03:40:48.973580Z"
    }
   },
   "outputs": [],
   "source": [
    "import pandas as pd\n",
    "# pd.set_option('display.max_rows', None)\n",
    "pd.options.mode.chained_assignment = None\n",
    "pd.options.display.float_format = '{:.2f}'.format"
   ]
  },
  {
   "cell_type": "code",
   "execution_count": 2,
   "id": "94d7477c",
   "metadata": {
    "ExecuteTime": {
     "end_time": "2023-06-01T03:41:10.278132Z",
     "start_time": "2023-06-01T03:40:50.125481Z"
    },
    "scrolled": true
   },
   "outputs": [],
   "source": [
    "df_1 = pd.read_excel('Тест_Эксель_Родное_слово.xlsx', sheet_name='Парк 1')\n",
    "df_2 = pd.read_excel('Тест_Эксель_Родное_слово.xlsx', sheet_name='Парк 2')\n",
    "df_3 = pd.read_excel('Тест_Эксель_Родное_слово.xlsx', sheet_name='Парк 3')\n",
    "df_4 = pd.read_excel('Тест_Эксель_Родное_слово.xlsx', sheet_name='Парк 4')"
   ]
  },
  {
   "cell_type": "code",
   "execution_count": 3,
   "id": "859ba132",
   "metadata": {
    "ExecuteTime": {
     "end_time": "2023-06-01T03:41:11.066490Z",
     "start_time": "2023-06-01T03:41:11.055423Z"
    }
   },
   "outputs": [],
   "source": [
    "def make_reports(df):\n",
    "    \n",
    "    df['Получатель'] = df['Получатель'].astype(str)\n",
    "    df['К оплате'] = df['К оплате'].astype(str)\n",
    "    \n",
    "    df = df[df['К оплате'].str.contains('Да')]\n",
    "    \n",
    "    df['Сумма'] = df['Сумма'].astype(str).str.replace(',','.')\n",
    "    df['Сумма'] = df['Сумма'].astype(str).str.replace(' ','').astype(float)\n",
    "    \n",
    "    df['Месяц'] = df['Дата всчета'].dt.strftime('%B')\n",
    "    df['Месяц'] = df['Месяц'].astype(str)\n",
    "    \n",
    "    month_order = ['January','February','March','April','May','June',\n",
    "               'July','August','September']\n",
    "\n",
    "    df['Месяц'] = pd.Categorical(df['Месяц'], categories=month_order, \n",
    "                                   ordered=True)\n",
    "    month_dict = {'January':'Январь',\n",
    "                 'February':'Февраль',\n",
    "                 'March':'Март',\n",
    "                 'April':'Апрель',\n",
    "                 'May':'Май',\n",
    "                 'June':'Июнь',\n",
    "                 'July':'Июль',\n",
    "                 'August':'Август',\n",
    "                 'September':'Сентябрь'}\n",
    "\n",
    "    df['Месяц'] = df['Месяц'].apply(lambda x: month_dict.get(x,x))\n",
    "\n",
    "    df = df.sort_values('Дата всчета', ascending=True)\n",
    "    \n",
    "#     group by reciever\n",
    "    df_in = df[df['Получатель'].str.contains('ЮЛ ООО')]\n",
    "    \n",
    "    pivot_in = pd.pivot_table(df_in, values='Сумма', \n",
    "                            index='Статья', columns='Месяц', \n",
    "                            aggfunc='sum', margins=True,  margins_name='Общее')\n",
    "    \n",
    "#     group by payer\n",
    "    df_out = df[df['Плательщик'].str.contains('ЮЛ ООО')]\n",
    "    \n",
    "    pivot_out = pd.pivot_table(df_out, values='Сумма', \n",
    "                            index='Статья', columns='Месяц', \n",
    "                            aggfunc='sum', margins=True,  margins_name='Общее')\n",
    "\n",
    "\n",
    "    return pivot_in, pivot_out"
   ]
  },
  {
   "cell_type": "code",
   "execution_count": 4,
   "id": "e7eb682f",
   "metadata": {
    "ExecuteTime": {
     "end_time": "2023-06-01T03:41:16.793421Z",
     "start_time": "2023-06-01T03:41:16.079829Z"
    }
   },
   "outputs": [],
   "source": [
    "# a,b = make_reports(df_1)\n",
    "# c,d = make_reports(df_2)\n",
    "# e,f = make_reports(df_3)\n",
    "# g,h = make_reports(df_4)"
   ]
  },
  {
   "cell_type": "code",
   "execution_count": 5,
   "id": "51c3dfd5",
   "metadata": {
    "ExecuteTime": {
     "end_time": "2023-06-01T03:41:23.641370Z",
     "start_time": "2023-06-01T03:41:23.207578Z"
    }
   },
   "outputs": [],
   "source": [
    "# with pd.ExcelWriter('test3.xlsx') as writer:\n",
    "#     a.to_excel(writer, sheet_name=f'Revenue_1')\n",
    "#     b.to_excel(writer, sheet_name=f'Costs_1')\n",
    "#     c.to_excel(writer, sheet_name=f'Revenue_2')\n",
    "#     d.to_excel(writer, sheet_name=f'Costs_2')\n",
    "#     e.to_excel(writer, sheet_name=f'Revenue_3')\n",
    "#     f.to_excel(writer, sheet_name=f'Costs_3')\n",
    "#     g.to_excel(writer, sheet_name=f'Revenue_4')\n",
    "#     h.to_excel(writer, sheet_name=f'Costs_4')"
   ]
  },
  {
   "cell_type": "code",
   "execution_count": null,
   "id": "3a1c4530",
   "metadata": {
    "ExecuteTime": {
     "end_time": "2023-05-31T18:58:14.802263Z",
     "start_time": "2023-05-31T18:58:14.798315Z"
    },
    "scrolled": true
   },
   "outputs": [],
   "source": [
    "# with pd.ExcelWriter('test3.xlsx') as writer:\n",
    "#     for i, data in enumerate(df_list):\n",
    "#         rev, costs = make_reports(data)\n",
    "        \n",
    "#         rev.to_excel(writer, sheet_name=f'Revenue_{i+1}')\n",
    "#         costs.to_excel(writer, sheet_name=f'Costs_{i+1}')       "
   ]
  },
  {
   "cell_type": "code",
   "execution_count": null,
   "id": "bdec3a83",
   "metadata": {
    "ExecuteTime": {
     "end_time": "2023-06-01T03:30:17.207778Z",
     "start_time": "2023-06-01T03:30:16.768890Z"
    }
   },
   "outputs": [],
   "source": [
    "# df_1['Получатель'] = df_1['Получатель'].astype(str)\n",
    "# df_1['К оплате'] = df_1['К оплате'].astype(str)\n",
    "# df_1 = df_1[df_1['К оплате'].str.contains('Да')]\n",
    "# df_1_in = df_1[df_1['Получатель'].str.contains('ЮЛ ООО')]\n",
    "\n",
    "# df_1['Сумма'] = df_1['Сумма'].astype(str).str.replace(',','.')\n",
    "# df_1['Сумма'] = df_1['Сумма'].astype(str).str.replace(' ','').astype(float)\n",
    "\n",
    "# df_1_in = df_1[df_1['Получатель'].str.contains('ЮЛ ООО')]\n",
    "\n",
    "# df_1['Сумма'] = df_1['Сумма'].astype(str).str.replace(',','.')\n",
    "# df_1['Сумма'] = df_1['Сумма'].astype(str).str.replace(' ','').astype(float)\n",
    "\n",
    "# df_1['Месяц'] = df_1['Дата всчета'].dt.strftime('%B')\n",
    "# df_1['Месяц'] = df_1['Месяц'].astype(str)\n",
    "\n",
    "# month_order = ['January','February','March','April','May','June',\n",
    "#                'July','August','September']\n",
    "\n",
    "# df_1['Месяц'] = pd.Categorical(df_1['Месяц'], categories=month_order, \n",
    "#                                ordered=True)\n",
    "# month_dict = {'January':'Январь',\n",
    "#              'February':'Февраль',\n",
    "#              'March':'Март',\n",
    "#              'April':'Апрель',\n",
    "#              'May':'Май',\n",
    "#              'June':'Июнь',\n",
    "#              'July':'Июль',\n",
    "#              'August':'Август',\n",
    "#              'September':'Сентябрь'}\n",
    "\n",
    "# df_1['Месяц'] = df_1['Месяц'].apply(lambda x: month_dict.get(x,x))\n",
    "\n",
    "# df_1 = df_1.sort_values('Дата всчета', ascending=True)\n",
    "\n",
    "# df_1_in = df_1[df_1['Получатель'].str.contains('ЮЛ ООО')]\n",
    "\n",
    "# pivot_1_in = pd.pivot_table(df_1_in, values='Сумма', \n",
    "#                             index='Статья', columns='Месяц', \n",
    "#                             aggfunc='sum', margins=True,  margins_name='Общее')\n",
    "\n",
    "\n",
    "# pivot_1_in\n",
    "# # pivot_1_in_v2 = pivot_1_in[['Январь', 'Февраль', 'Март', 'Апрель', \n",
    "# #                            'Май', 'Июнь', 'Июль','Август', 'Сентябрь', \n",
    "# #                             'Общее']]\n",
    "\n",
    "# # last_col_in = pivot_1_in.iloc[:, -1]\n",
    "# # rev_col_in = pivot_1_in.iloc[:, :-1 ].iloc[:, ::-1]\n",
    "# # reversed_pivot_in = pd.concat([rev_col_in,last_col_in], axis=1)\n",
    "\n",
    "\n",
    "# # reversed_pivot_in = reversed_pivot_in.fillna(0)\n",
    "# # reversed_pivot_in"
   ]
  },
  {
   "cell_type": "code",
   "execution_count": null,
   "id": "2b677d4d",
   "metadata": {
    "ExecuteTime": {
     "end_time": "2023-06-01T03:31:47.967849Z",
     "start_time": "2023-06-01T03:31:47.904154Z"
    }
   },
   "outputs": [],
   "source": [
    "# df_1_out = df_1[df_1['Плательщик'].str.contains('ЮЛ ООО')]\n",
    "\n",
    "# pivot_1_out = pd.pivot_table(df_1_out, values='Сумма', \n",
    "#                             index='Статья', columns='Месяц', \n",
    "#                             aggfunc='sum', margins=True,  margins_name='Общее')\n",
    "\n",
    "# pivot_1_out\n",
    "# # pivot_1_out_v2 = pivot_1_out[['Февраль', 'Март', 'Апрель', \n",
    "# #                            'Май', 'Июнь', 'Июль','Август', 'Сентябрь', \n",
    "# #                             'Общее']]\n",
    "\n",
    "# last_col_out = pivot_1_out.iloc[:, -1]\n",
    "# rev_col_out = pivot_1_out.iloc[:, :-1 ].iloc[:, ::-1]\n",
    "# reversed_pivot_out = pd.concat([rev_col_out,last_col_out], axis=1)\n",
    "\n",
    "# reversed_pivot_out = reversed_pivot_out.fillna(0)\n",
    "# reversed_pivot_out"
   ]
  },
  {
   "cell_type": "code",
   "execution_count": null,
   "id": "248286db",
   "metadata": {
    "ExecuteTime": {
     "end_time": "2023-05-31T17:06:56.186466Z",
     "start_time": "2023-05-31T17:06:56.113267Z"
    }
   },
   "outputs": [],
   "source": [
    "# with pd.ExcelWriter('test2.xlsx') as writer:\n",
    "#     pivot_1_in_v2.to_excel(writer, sheet_name='Sheet1', index=False)\n",
    "#     pivot_1_in_v2.to_excel(writer, sheet_name='Sheet2', index=False)"
   ]
  }
 ],
 "metadata": {
  "kernelspec": {
   "display_name": "Python 3 (ipykernel)",
   "language": "python",
   "name": "python3"
  },
  "language_info": {
   "codemirror_mode": {
    "name": "ipython",
    "version": 3
   },
   "file_extension": ".py",
   "mimetype": "text/x-python",
   "name": "python",
   "nbconvert_exporter": "python",
   "pygments_lexer": "ipython3",
   "version": "3.11.2"
  }
 },
 "nbformat": 4,
 "nbformat_minor": 5
}
